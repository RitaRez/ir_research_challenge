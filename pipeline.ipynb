{
 "cells": [
  {
   "cell_type": "code",
   "execution_count": 1,
   "metadata": {},
   "outputs": [],
   "source": [
    "import pandas as pd"
   ]
  },
  {
   "cell_type": "code",
   "execution_count": 2,
   "metadata": {},
   "outputs": [
    {
     "data": {
      "text/html": [
       "<div>\n",
       "<style scoped>\n",
       "    .dataframe tbody tr th:only-of-type {\n",
       "        vertical-align: middle;\n",
       "    }\n",
       "\n",
       "    .dataframe tbody tr th {\n",
       "        vertical-align: top;\n",
       "    }\n",
       "\n",
       "    .dataframe thead th {\n",
       "        text-align: right;\n",
       "    }\n",
       "</style>\n",
       "<table border=\"1\" class=\"dataframe\">\n",
       "  <thead>\n",
       "    <tr style=\"text-align: right;\">\n",
       "      <th></th>\n",
       "      <th>QueryId</th>\n",
       "      <th>EntityId</th>\n",
       "      <th>Relevance D_BM25</th>\n",
       "    </tr>\n",
       "  </thead>\n",
       "  <tbody>\n",
       "    <tr>\n",
       "      <th>0</th>\n",
       "      <td>2</td>\n",
       "      <td>366601</td>\n",
       "      <td>6.583829</td>\n",
       "    </tr>\n",
       "    <tr>\n",
       "      <th>1</th>\n",
       "      <td>2</td>\n",
       "      <td>2508826</td>\n",
       "      <td>6.298121</td>\n",
       "    </tr>\n",
       "    <tr>\n",
       "      <th>2</th>\n",
       "      <td>2</td>\n",
       "      <td>3572540</td>\n",
       "      <td>6.230924</td>\n",
       "    </tr>\n",
       "    <tr>\n",
       "      <th>3</th>\n",
       "      <td>2</td>\n",
       "      <td>1850915</td>\n",
       "      <td>6.025050</td>\n",
       "    </tr>\n",
       "    <tr>\n",
       "      <th>4</th>\n",
       "      <td>2</td>\n",
       "      <td>3957054</td>\n",
       "      <td>6.017145</td>\n",
       "    </tr>\n",
       "  </tbody>\n",
       "</table>\n",
       "</div>"
      ],
      "text/plain": [
       "   QueryId  EntityId  Relevance D_BM25\n",
       "0        2    366601          6.583829\n",
       "1        2   2508826          6.298121\n",
       "2        2   3572540          6.230924\n",
       "3        2   1850915          6.025050\n",
       "4        2   3957054          6.017145"
      ]
     },
     "execution_count": 2,
     "metadata": {},
     "output_type": "execute_result"
    }
   ],
   "source": [
    "data = pd.read_csv('results/test_disjunctive_daat_BM25_scores.csv')\n",
    "data.head()"
   ]
  },
  {
   "cell_type": "code",
   "execution_count": 3,
   "metadata": {},
   "outputs": [
    {
     "data": {
      "text/html": [
       "<div>\n",
       "<style scoped>\n",
       "    .dataframe tbody tr th:only-of-type {\n",
       "        vertical-align: middle;\n",
       "    }\n",
       "\n",
       "    .dataframe tbody tr th {\n",
       "        vertical-align: top;\n",
       "    }\n",
       "\n",
       "    .dataframe thead th {\n",
       "        text-align: right;\n",
       "    }\n",
       "</style>\n",
       "<table border=\"1\" class=\"dataframe\">\n",
       "  <thead>\n",
       "    <tr style=\"text-align: right;\">\n",
       "      <th></th>\n",
       "      <th>id</th>\n",
       "      <th>title</th>\n",
       "      <th>text</th>\n",
       "      <th>keywords</th>\n",
       "    </tr>\n",
       "  </thead>\n",
       "  <tbody>\n",
       "    <tr>\n",
       "      <th>0</th>\n",
       "      <td>1</td>\n",
       "      <td>!!!</td>\n",
       "      <td>!!! is a dance-punk band that formed in Sacram...</td>\n",
       "      <td>[1996 establishments in California, American i...</td>\n",
       "    </tr>\n",
       "    <tr>\n",
       "      <th>1</th>\n",
       "      <td>2</td>\n",
       "      <td>!!! (album)</td>\n",
       "      <td>!!! is the eponymous debut album by !!!. It wa...</td>\n",
       "      <td>[!!! albums, 2001 debut albums, English-langua...</td>\n",
       "    </tr>\n",
       "    <tr>\n",
       "      <th>2</th>\n",
       "      <td>3</td>\n",
       "      <td>!!Destroy-Oh-Boy!!</td>\n",
       "      <td>!!Destroy-Oh-Boy!! is the debut album by the A...</td>\n",
       "      <td>[1993 debut albums, Crypt Records albums, Engl...</td>\n",
       "    </tr>\n",
       "    <tr>\n",
       "      <th>3</th>\n",
       "      <td>4</td>\n",
       "      <td>!Action Pact!</td>\n",
       "      <td>!Action Pact! were a punk rock band, formed in...</td>\n",
       "      <td>[English punk rock groups, Musical groups dise...</td>\n",
       "    </tr>\n",
       "    <tr>\n",
       "      <th>4</th>\n",
       "      <td>5</td>\n",
       "      <td>!Arriba! La Pachanga</td>\n",
       "      <td>!Arriba! La Pachanga is an album by Mongo Sant...</td>\n",
       "      <td>[1961 albums]</td>\n",
       "    </tr>\n",
       "  </tbody>\n",
       "</table>\n",
       "</div>"
      ],
      "text/plain": [
       "   id                 title  \\\n",
       "0   1                   !!!   \n",
       "1   2           !!! (album)   \n",
       "2   3    !!Destroy-Oh-Boy!!   \n",
       "3   4         !Action Pact!   \n",
       "4   5  !Arriba! La Pachanga   \n",
       "\n",
       "                                                text  \\\n",
       "0  !!! is a dance-punk band that formed in Sacram...   \n",
       "1  !!! is the eponymous debut album by !!!. It wa...   \n",
       "2  !!Destroy-Oh-Boy!! is the debut album by the A...   \n",
       "3  !Action Pact! were a punk rock band, formed in...   \n",
       "4  !Arriba! La Pachanga is an album by Mongo Sant...   \n",
       "\n",
       "                                            keywords  \n",
       "0  [1996 establishments in California, American i...  \n",
       "1  [!!! albums, 2001 debut albums, English-langua...  \n",
       "2  [1993 debut albums, Crypt Records albums, Engl...  \n",
       "3  [English punk rock groups, Musical groups dise...  \n",
       "4                                      [1961 albums]  "
      ]
     },
     "execution_count": 3,
     "metadata": {},
     "output_type": "execute_result"
    }
   ],
   "source": [
    "documents = pd.read_json('data/corpus.jsonl', lines=True)\n",
    "documents.head()"
   ]
  },
  {
   "cell_type": "code",
   "execution_count": 4,
   "metadata": {},
   "outputs": [],
   "source": [
    "data.rename(columns={'EntityId': 'id'}, inplace=True)\n",
    "merged_data = pd.merge(data, documents, how='left', on='id')"
   ]
  },
  {
   "cell_type": "code",
   "execution_count": 7,
   "metadata": {},
   "outputs": [],
   "source": [
    "merged_data.to_csv('results/test_disjunctive_daat_BM25_scores_with_text.csv', index=False)"
   ]
  },
  {
   "cell_type": "code",
   "execution_count": null,
   "metadata": {},
   "outputs": [],
   "source": []
  }
 ],
 "metadata": {
  "kernelspec": {
   "display_name": "base",
   "language": "python",
   "name": "python3"
  },
  "language_info": {
   "codemirror_mode": {
    "name": "ipython",
    "version": 3
   },
   "file_extension": ".py",
   "mimetype": "text/x-python",
   "name": "python",
   "nbconvert_exporter": "python",
   "pygments_lexer": "ipython3",
   "version": "3.10.9"
  },
  "orig_nbformat": 4
 },
 "nbformat": 4,
 "nbformat_minor": 2
}
